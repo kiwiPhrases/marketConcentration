{
 "cells": [
  {
   "cell_type": "code",
   "execution_count": 1,
   "metadata": {},
   "outputs": [],
   "source": [
    "import pandas as pd\n",
    "import numpy as np\n",
    "import os, re\n",
    "data_path = \"C:/Users/SpiffyApple/Documents/USC/OwnResearch/marketShare\"\n",
    "\n",
    "import matplotlib.pyplot as plt\n",
    "%matplotlib inline\n",
    "jet = plt.get_cmap('jet')\n",
    "\n",
    "import statsmodels.api as sm\n",
    "import statsmodels.formula.api as smf\n",
    "from statsmodels.sandbox.regression.predstd import wls_prediction_std\n",
    "from statsmodels.regression.linear_model import WLS\n",
    "import seaborn as sns\n",
    "from statsmodels.stats.weightstats import ttest_ind\n",
    "\n",
    "import itertools"
   ]
  },
  {
   "cell_type": "code",
   "execution_count": 2,
   "metadata": {},
   "outputs": [],
   "source": [
    "#convenience function\n",
    "def toLatex(tmpDF, file_name, reg=False):\n",
    "    with open(\"/\".join([data_path,file_name]), 'w+') as f:\n",
    "        if reg==False:\n",
    "            f.write(tmpDF.to_latex())\n",
    "        if reg:\n",
    "            f.write(tmpDF.as_latex())\n",
    "    return(tmpDF)\n",
    "\n",
    "def toExcel(tmpDF, file_name):\n",
    "    tmpDF.to_excel(\"/\".join([data_path,file_name]))\n",
    "    return(tmpDF)"
   ]
  },
  {
   "cell_type": "markdown",
   "metadata": {},
   "source": [
    "# Milwaukee Tax Assessor data\n",
    "\n",
    "City-wide data were sourced from the Milwaukee city [website](https://city.milwaukee.gov/DownloadTabularData3496.htm). Two files are used, the 1) MPROP([documentation](https://itmdapps.milwaukee.gov/gis/mprop/Documentation/mprop.pdf)) and 2) MAI which contains data on the number of units, land use, residential vs commercial etc.\n",
    "\n",
    "Other potentially useful data sources can be obtained [here](https://city.milwaukee.gov/data)\n",
    "\n",
    "Information on Milwaukee residential [zoning](https://city.milwaukee.gov/ImageLibrary/Groups/ccClerk/Ordinances/Volume-2/CH295-sub5.pdf) but more succintly [here](https://city.milwaukee.gov/Designguidelines/UrbanDesignResources/Zoning-Districts.htm). For all zoning codes, come [here](https://city.milwaukee.gov/PlanningPermits/DCDzoninglink.htm)\n",
    "\n",
    "2011-2015 5year sample ACS data for Milwaukee come from [Social Explorer](https://www.socialexplorer.com/tables/ACS2015_5yr/R11848037)"
   ]
  },
  {
   "cell_type": "markdown",
   "metadata": {},
   "source": [
    "### Matching Assessor data to Tiger data\n",
    "\n",
    "The Assessor data make tract and block codes available but they do not make the county fips available. As a result, the tract and block number combinations are not uniquely matched to the Tiger file for Wisconsin blocks. In order to remedy this, I remove all counties that are not within Milwaukee city. Milwaukee City has 3 counties in it: Milwaukee, Washington, and Waukesha. Their respective [codes](https://www.disc.wisc.edu/Codebooks/FIPScodesWI.htm) are 079; 131; 133"
   ]
  },
  {
   "cell_type": "code",
   "execution_count": 3,
   "metadata": {},
   "outputs": [],
   "source": [
    "tigers = pd.read_excel(\"/\".join([data_path, 'milwaukee_blocks.xls']))\n",
    "#tigers = pd.read_csv(\"/\".join([data_path,\"MilwaukeeCountyTiger.csv\" ]))"
   ]
  },
  {
   "cell_type": "code",
   "execution_count": 4,
   "metadata": {},
   "outputs": [
    {
     "name": "stdout",
     "output_type": "stream",
     "text": [
      "Number of unique tractblocks in tigers file: 8060\n"
     ]
    }
   ],
   "source": [
    "tigers.loc[:,'tractblock'] = tigers.TRACTCE10.astype(str) +\".\"+tigers.BLOCKCE10.astype(str)\n",
    "print(\"Number of unique tractblocks in tigers file: %d\" %tigers.tractblock.unique().shape[0])"
   ]
  },
  {
   "cell_type": "code",
   "execution_count": 5,
   "metadata": {},
   "outputs": [
    {
     "name": "stdout",
     "output_type": "stream",
     "text": [
      "number of blocks in Wisconsin: 8060\n",
      "number of blocks in relevant counties: 8058\n",
      "Number of tract and block combinations in the Tiger data that are not unique: 0\n"
     ]
    }
   ],
   "source": [
    "# in order to improved matching between Tiger files and these data, I first exclude non-relevant counties\n",
    "print(\"number of blocks in Wisconsin: %d\" %tigers.shape[0])\n",
    "print(\"number of blocks in relevant counties: %d\" %tigers[(tigers.COUNTYFP10 == 79) | (tigers.COUNTYFP10 == 131) | (tigers.COUNTYFP10 == 133)].shape[0])\n",
    "#tigers = tigers[(tigers.COUNTYFP10 == 79) | (tigers.COUNTYFP10 == 131) | (tigers.COUNTYFP10 == 133)]\n",
    "\n",
    "print(\"Number of tract and block combinations in the Tiger data that are not unique: %d\" %(tigers.tractblock).duplicated().sum())"
   ]
  },
  {
   "cell_type": "markdown",
   "metadata": {},
   "source": [
    "# Data Processing"
   ]
  },
  {
   "cell_type": "code",
   "execution_count": 6,
   "metadata": {},
   "outputs": [],
   "source": [
    "## Load MPROP data\n",
    "tax = pd.read_csv(\"/\".join([data_path, 'mprop.csv']), low_memory=False) ## load assessor data\n",
    "tax = tax.loc[:,~tax.isnull().all()] ## drop columns that are all NA\n",
    "\n",
    "tax.drop(['TAX_DELQ','RAZE_STATUS','BI_VIOL'],axis=1, inplace=True) ## drop some of the columns with only one value\n",
    "tax.columns = tax.columns.str.lower() ## make columns lower case\n",
    "\n",
    "tax.dropna(subset=['geo_tract'],inplace=True)\n",
    "tax.dropna(subset=['owner_name_1'],inplace=True)\n",
    "tax.geo_tract = tax.geo_tract.astype(int)\n",
    "tax.loc[:,'geo_blockgroup'] = tax.geo_block.str[:1]\n",
    "\n",
    "tax.loc[:,'owner_name_1'] = tax.owner_name_1.str.strip()\n",
    "tax.owner_name_1.replace(\",\",\"\", regex=True, inplace=True)\n",
    "\n",
    "tax.owner_name_1.replace(\"THE \", \"\", regex=True, inplace=True)\n",
    "\n",
    "## combine the owner fields\n",
    "tax.loc[:,'owner'] = (tax.owner_name_1+\" \"+tax.owner_name_2.astype(str)+\" \"+tax.owner_name_3.astype(str)).replace(\"nan\",'',regex=True)\n",
    "\n",
    "\n",
    "## LOAD MAI data - so far, there hasn't been any use for it\n",
    "#mai = pd.read_csv(\"/\".join([data_path, 'mai.csv']), low_memory=False)\n",
    "#mai = mai.loc[:,~mai.isnull().all()]\n",
    "#mai.columns = mai.columns.str.lower()"
   ]
  },
  {
   "cell_type": "code",
   "execution_count": 7,
   "metadata": {},
   "outputs": [],
   "source": [
    "zoningRepl = {'LB3':'local business-urban','LB2':'local business-midUrban','LB1':'local business-suburban',\n",
    "             'IM':'industrial mixed','C9C':'neighborhood retail','C9E':'major retail','C9F':'office and service',\n",
    "             'C9G':'mixed activity','RM1':'multifamily residential','RM2':'multifamily residential',\n",
    "              'RM3':'multifamily residential','RM4':'multifamily residential','RM5':'multifamily residential',\n",
    "             'RM6':'multifamily residential','RM7':'multifamily residential',\n",
    "             'RT1':'onetwo residential','RT2':'onetwo residential','RT3':'twofamily residential',\n",
    "             'RT4':'mixed residential','RO1':'residential office','RO2':'residential office',\n",
    "             'RS1':'singlefamily residential','RS2':'singlefamily residential','RS3':'singlefamily residential',\n",
    "             'RS4':'singlefamily residential','RS5':'singlefamily residential','RS6':'singlefamily residential',\n",
    "             'RB1':'regional business','RB2':'regional business'}\n",
    "tax.zoning.replace(zoningRepl,inplace=True)\n",
    "\n",
    "#tax.zoning.unique()"
   ]
  },
  {
   "cell_type": "code",
   "execution_count": 8,
   "metadata": {},
   "outputs": [
    {
     "name": "stdout",
     "output_type": "stream",
     "text": [
      "Number of obs and proportion with unknown zoning. Num: 1073, Share: 0.007\n",
      "Number of units whose zoning is not known: 0\n"
     ]
    }
   ],
   "source": [
    "print(\"Number of obs and proportion with unknown zoning. Num: %d, Share: %.3f\" %(tax.zoning.isnull().sum(),tax.zoning.isnull().sum()/tax.shape[0]))\n",
    "print(\"Number of units whose zoning is not known: %d\" %tax.loc[tax.zoning.isnull(), 'nr_units'].sum())\n",
    "\n",
    "tax.dropna(subset=['zoning'], inplace=True)"
   ]
  },
  {
   "cell_type": "code",
   "execution_count": 9,
   "metadata": {},
   "outputs": [
    {
     "name": "stdout",
     "output_type": "stream",
     "text": [
      "Number of unique tract blocks before removal of non-residential properties: 7010\n"
     ]
    }
   ],
   "source": [
    "tax.loc[:,'tractblock'] = tax.geo_tract.astype(str)+\".\"+tax.geo_block\n",
    "print(\"Number of unique tract blocks before removal of non-residential properties: %d\" %tax.tractblock.unique().shape[0])"
   ]
  },
  {
   "cell_type": "code",
   "execution_count": 10,
   "metadata": {},
   "outputs": [
    {
     "name": "stderr",
     "output_type": "stream",
     "text": [
      "C:\\Users\\SpiffyApple\\Anaconda3\\lib\\site-packages\\ipykernel_launcher.py:2: FutureWarning: The signature of `Series.to_csv` was aligned to that of `DataFrame.to_csv`, and argument 'header' will change its default value from False to True: please pass an explicit value to suppress this warning.\n",
      "  \n"
     ]
    }
   ],
   "source": [
    "tax.loc[:,'residential'] = tax.zoning.str.contains(\"residential\") | (tax.land_use_gp <5) & (tax.land_use_gp>0) & (tax.land_use_gp.notnull())\n",
    "tax.merge(tigers, on='tractblock',how='left').groupby('GEOID10').residential.sum().to_csv(\"/\".join([data_path, 'milwaukee_props_w_commercial.csv']))"
   ]
  },
  {
   "cell_type": "code",
   "execution_count": 11,
   "metadata": {},
   "outputs": [
    {
     "name": "stdout",
     "output_type": "stream",
     "text": [
      "All observations: 160301\n",
      "Residential observations: 150510\n"
     ]
    }
   ],
   "source": [
    "## since we are not concerned with non-residential properties, I drop those here\n",
    "print(\"All observations: %d\" %tax.shape[0])\n",
    "\n",
    "tax = tax.loc[tax.zoning.str.contains(\"residential\") | (tax.land_use_gp <5) & (tax.land_use_gp>0) & (tax.land_use_gp.notnull())]\n",
    "print(\"Residential observations: %d\" %tax.shape[0])"
   ]
  },
  {
   "cell_type": "code",
   "execution_count": 12,
   "metadata": {},
   "outputs": [
    {
     "name": "stdout",
     "output_type": "stream",
     "text": [
      "Number of units: 257453\n"
     ]
    }
   ],
   "source": [
    "print(\"Number of units: %d\" %tax.nr_units.sum())"
   ]
  },
  {
   "cell_type": "code",
   "execution_count": 13,
   "metadata": {},
   "outputs": [],
   "source": [
    "## remove properties that are owned by City of Milwaukee or its departments\n",
    "#tax = tax.loc[~tax.owner_name_1.str.contains(\"CITY OF MILW|AUTH |AUTHORITY\"),:]"
   ]
  },
  {
   "cell_type": "code",
   "execution_count": 14,
   "metadata": {},
   "outputs": [
    {
     "name": "stdout",
     "output_type": "stream",
     "text": [
      "Number of unique owner addresses:\n"
     ]
    },
    {
     "data": {
      "text/plain": [
       "114703"
      ]
     },
     "execution_count": 14,
     "metadata": {},
     "output_type": "execute_result"
    }
   ],
   "source": [
    "print(\"Number of unique owner addresses:\")\n",
    "tax.owner_mail_addr =tax.owner_mail_addr.str.replace(\"# \\d+|#|%\",'').str.replace(\"P O\",\"PO\").str.replace(\" AV,\",\" AVE\").str.strip()\n",
    "tax.owner_mail_addr.unique().shape[0]"
   ]
  },
  {
   "cell_type": "code",
   "execution_count": 15,
   "metadata": {},
   "outputs": [
    {
     "name": "stdout",
     "output_type": "stream",
     "text": [
      "Number of unique owner The names:\n"
     ]
    },
    {
     "data": {
      "text/plain": [
       "119625"
      ]
     },
     "execution_count": 15,
     "metadata": {},
     "output_type": "execute_result"
    }
   ],
   "source": [
    "print(\"Number of unique owner The names:\")\n",
    "tax.owner_name_1.unique().shape[0]"
   ]
  },
  {
   "cell_type": "code",
   "execution_count": 16,
   "metadata": {},
   "outputs": [],
   "source": [
    "#tax.owner_name_1[~tax.owner_name_1.duplicated()].sort_values()"
   ]
  },
  {
   "cell_type": "code",
   "execution_count": 17,
   "metadata": {},
   "outputs": [],
   "source": [
    "ownernameRepl = {'W62N244 WASHINGTON AVE A105':'W62N244 WASHINGTON AVE','10 WHITE TRAIL LN':'10 WHITE TAIL LN',\n",
    "               'W7026 COTTONVILLEDR':'W7026 COTTONVILLE DR','W7026 COTTTONVILLE DR':'W7026 COTTONVILLE DR',\n",
    "                \"DOOR4S DWELLINGS LLC\":'DOORS DWELLINGS LLC'}\n",
    "tax.owner_name_1.replace(ownernameRepl,inplace=True)"
   ]
  },
  {
   "cell_type": "markdown",
   "metadata": {},
   "source": [
    "# Data Descriptives"
   ]
  },
  {
   "cell_type": "code",
   "execution_count": 18,
   "metadata": {},
   "outputs": [
    {
     "name": "stderr",
     "output_type": "stream",
     "text": [
      "C:\\Users\\SpiffyApple\\Anaconda3\\lib\\site-packages\\pandas\\core\\indexing.py:1494: FutureWarning: \n",
      "Passing list-likes to .loc or [] with any missing label will raise\n",
      "KeyError in the future, you can use .reindex() as an alternative.\n",
      "\n",
      "See the documentation here:\n",
      "https://pandas.pydata.org/pandas-docs/stable/indexing.html#deprecate-loc-reindex-listlike\n",
      "  return self._getitem_tuple(key)\n"
     ]
    },
    {
     "data": {
      "text/html": [
       "<div>\n",
       "<style scoped>\n",
       "    .dataframe tbody tr th:only-of-type {\n",
       "        vertical-align: middle;\n",
       "    }\n",
       "\n",
       "    .dataframe tbody tr th {\n",
       "        vertical-align: top;\n",
       "    }\n",
       "\n",
       "    .dataframe thead th {\n",
       "        text-align: right;\n",
       "    }\n",
       "</style>\n",
       "<table border=\"1\" class=\"dataframe\">\n",
       "  <thead>\n",
       "    <tr style=\"text-align: right;\">\n",
       "      <th></th>\n",
       "      <th>numProperties</th>\n",
       "      <th>nr_units</th>\n",
       "    </tr>\n",
       "    <tr>\n",
       "      <th>owner_name_1</th>\n",
       "      <th></th>\n",
       "      <th></th>\n",
       "    </tr>\n",
       "  </thead>\n",
       "  <tbody>\n",
       "    <tr>\n",
       "      <th>HOUSING AUTHORITY OF THE</th>\n",
       "      <td>188</td>\n",
       "      <td>1593</td>\n",
       "    </tr>\n",
       "    <tr>\n",
       "      <th>CITY OF MILW</th>\n",
       "      <td>2367</td>\n",
       "      <td>1389</td>\n",
       "    </tr>\n",
       "    <tr>\n",
       "      <th>CITY OF MILW HOUSING AUTH</th>\n",
       "      <td>205</td>\n",
       "      <td>1323</td>\n",
       "    </tr>\n",
       "    <tr>\n",
       "      <th>METROPOLITAN ASSOCIATES FKA</th>\n",
       "      <td>10</td>\n",
       "      <td>1058</td>\n",
       "    </tr>\n",
       "    <tr>\n",
       "      <th>JUNEAU VILLAGE SHOPPING</th>\n",
       "      <td>1</td>\n",
       "      <td>598</td>\n",
       "    </tr>\n",
       "  </tbody>\n",
       "</table>\n",
       "</div>"
      ],
      "text/plain": [
       "                             numProperties  nr_units\n",
       "owner_name_1                                        \n",
       "HOUSING AUTHORITY OF THE               188      1593\n",
       "CITY OF MILW                          2367      1389\n",
       "CITY OF MILW HOUSING AUTH              205      1323\n",
       "METROPOLITAN ASSOCIATES FKA             10      1058\n",
       "JUNEAU VILLAGE SHOPPING                  1       598"
      ]
     },
     "execution_count": 18,
     "metadata": {},
     "output_type": "execute_result"
    }
   ],
   "source": [
    "## simple tabulation of owners and number of props each has\n",
    "numPropsPerOwner = tax.loc[:,['owner_name_1','TAX_KEY']].groupby(\"owner_name_1\").size()\n",
    "numPropsPerOwner.name = 'numProperties'\n",
    "numUnitsPerOwner = tax.loc[:,['owner_name_1','nr_units']].groupby(\"owner_name_1\").sum()\n",
    "\n",
    "pd.concat([numPropsPerOwner,numUnitsPerOwner],axis=1).sort_values('nr_units',ascending=False).head()"
   ]
  },
  {
   "cell_type": "code",
   "execution_count": 19,
   "metadata": {},
   "outputs": [],
   "source": [
    "#tax.loc[tax.owner_name_1.str.lower().str.contains(\"tarver\"),['owner_name_1','owner_name_2','nr_units','own_ocpd','zoning','taxkey']]"
   ]
  },
  {
   "cell_type": "code",
   "execution_count": 20,
   "metadata": {},
   "outputs": [
    {
     "name": "stdout",
     "output_type": "stream",
     "text": [
      "share of units not owner occupied: 0.38\n"
     ]
    }
   ],
   "source": [
    "print(\"share of units not owner occupied: %.2f\" %(tax.own_ocpd.isnull().sum()/tax.own_ocpd.shape[0]))"
   ]
  },
  {
   "cell_type": "code",
   "execution_count": 21,
   "metadata": {},
   "outputs": [
    {
     "name": "stdout",
     "output_type": "stream",
     "text": [
      "Share of owner-occupied properties with more than 1 unit: 0.11\n"
     ]
    }
   ],
   "source": [
    "## share of units owner occupied and have more than one unit -- indeed\n",
    "print(\"Share of owner-occupied properties with more than 1 unit: %.2f\" %((tax.own_ocpd.notnull() & (tax.nr_units > 1)).sum()/tax.own_ocpd.shape[0]))"
   ]
  },
  {
   "cell_type": "code",
   "execution_count": 22,
   "metadata": {},
   "outputs": [],
   "source": [
    "## per Milwaukee website, this building has 49 units; not 491\n",
    "tax.nr_units.replace(491, 49, inplace=True)\n",
    "tax.nr_units.replace(391,39,inplace=True)"
   ]
  },
  {
   "cell_type": "code",
   "execution_count": 23,
   "metadata": {},
   "outputs": [
    {
     "data": {
      "text/plain": [
       "count    144099.000000\n",
       "mean          1.781130\n",
       "std           5.806126\n",
       "min           1.000000\n",
       "25%           1.000000\n",
       "50%           1.000000\n",
       "75%           2.000000\n",
       "max         598.000000\n",
       "Name: nr_units, dtype: float64"
      ]
     },
     "execution_count": 23,
     "metadata": {},
     "output_type": "execute_result"
    }
   ],
   "source": [
    "## look at the distribution of units and distribution of units owner occupied\n",
    "tax[tax.nr_units>0].nr_units.describe()"
   ]
  },
  {
   "cell_type": "code",
   "execution_count": 24,
   "metadata": {},
   "outputs": [
    {
     "data": {
      "text/html": [
       "<div>\n",
       "<style scoped>\n",
       "    .dataframe tbody tr th:only-of-type {\n",
       "        vertical-align: middle;\n",
       "    }\n",
       "\n",
       "    .dataframe tbody tr th {\n",
       "        vertical-align: top;\n",
       "    }\n",
       "\n",
       "    .dataframe thead th {\n",
       "        text-align: right;\n",
       "    }\n",
       "</style>\n",
       "<table border=\"1\" class=\"dataframe\">\n",
       "  <thead>\n",
       "    <tr style=\"text-align: right;\">\n",
       "      <th></th>\n",
       "      <th>owner</th>\n",
       "      <th>zoning</th>\n",
       "      <th>land_use_gp</th>\n",
       "      <th>house_nr_hi</th>\n",
       "      <th>street</th>\n",
       "      <th>nr_units</th>\n",
       "    </tr>\n",
       "  </thead>\n",
       "  <tbody>\n",
       "    <tr>\n",
       "      <th>262</th>\n",
       "      <td>MIMG XL HARBOR POINTE SUB LLC</td>\n",
       "      <td>PD</td>\n",
       "      <td>3.0</td>\n",
       "      <td>7342</td>\n",
       "      <td>MARINE</td>\n",
       "      <td>372</td>\n",
       "    </tr>\n",
       "    <tr>\n",
       "      <th>1163</th>\n",
       "      <td>LUTHER HAVEN  LLC</td>\n",
       "      <td>PD</td>\n",
       "      <td>3.0</td>\n",
       "      <td>8949</td>\n",
       "      <td>97TH</td>\n",
       "      <td>253</td>\n",
       "    </tr>\n",
       "    <tr>\n",
       "      <th>2086</th>\n",
       "      <td>7300 W DEAN LLC</td>\n",
       "      <td>PD</td>\n",
       "      <td>3.0</td>\n",
       "      <td>7500</td>\n",
       "      <td>DEAN</td>\n",
       "      <td>267</td>\n",
       "    </tr>\n",
       "    <tr>\n",
       "      <th>3011</th>\n",
       "      <td>WI ST JAMES ON FOUNTAIN LLC</td>\n",
       "      <td>PD</td>\n",
       "      <td>3.0</td>\n",
       "      <td>10590</td>\n",
       "      <td>FOUNTAIN</td>\n",
       "      <td>236</td>\n",
       "    </tr>\n",
       "    <tr>\n",
       "      <th>3741</th>\n",
       "      <td>BRADLEY PLACE TOWNHOMES LLC</td>\n",
       "      <td>multifamily residential</td>\n",
       "      <td>3.0</td>\n",
       "      <td>6411</td>\n",
       "      <td>BRADLEY</td>\n",
       "      <td>232</td>\n",
       "    </tr>\n",
       "  </tbody>\n",
       "</table>\n",
       "</div>"
      ],
      "text/plain": [
       "                               owner                   zoning  land_use_gp  \\\n",
       "262   MIMG XL HARBOR POINTE SUB LLC                        PD          3.0   \n",
       "1163             LUTHER HAVEN  LLC                         PD          3.0   \n",
       "2086               7300 W DEAN LLC                         PD          3.0   \n",
       "3011   WI ST JAMES ON FOUNTAIN LLC                         PD          3.0   \n",
       "3741   BRADLEY PLACE TOWNHOMES LLC    multifamily residential          3.0   \n",
       "\n",
       "      house_nr_hi    street  nr_units  \n",
       "262          7342    MARINE       372  \n",
       "1163         8949      97TH       253  \n",
       "2086         7500      DEAN       267  \n",
       "3011        10590  FOUNTAIN       236  \n",
       "3741         6411   BRADLEY       232  "
      ]
     },
     "execution_count": 24,
     "metadata": {},
     "output_type": "execute_result"
    }
   ],
   "source": [
    "tax.loc[tax.nr_units>200,['owner','zoning','land_use_gp','house_nr_hi','street','nr_units']].head()"
   ]
  },
  {
   "cell_type": "code",
   "execution_count": 25,
   "metadata": {},
   "outputs": [
    {
     "data": {
      "text/plain": [
       "owner_name_1\n",
       "CITY OF MILW                    794\n",
       "CITY OF MILW HOUSING AUTH       175\n",
       "HOUSING AUTHORITY OF THE        159\n",
       "HOME PATH FINANCIAL LP          134\n",
       "VILLAS EQUITY PARTNERS LLC      105\n",
       "RBK MANAGEMENT                   70\n",
       "PBR PROPERTIES LLC               70\n",
       "NORTHSIDE HOMEOWNERS             69\n",
       "PHOENIX SUN TERRACE VENTURE      69\n",
       "TE I LLC                         62\n",
       "DIVINE MOMENTUM REAL ESTATE      57\n",
       "HVL97-MKE-2017-01 ICEMAN LLC     56\n",
       "GUPTA PROPERTIES LLC             55\n",
       "MUSKEGO VENTURES LLC             52\n",
       "SUDDEN VALLEY LLC                52\n",
       "CITY OF MILWAUKEE                51\n",
       "GARDNER PROPERTIES               50\n",
       "TE V LLC                         48\n",
       "MOROCCO INVESTMENTS LLC          47\n",
       "SCHULTZ REAL ESTATE LLC          45\n",
       "dtype: int64"
      ]
     },
     "execution_count": 25,
     "metadata": {},
     "output_type": "execute_result"
    }
   ],
   "source": [
    "tax.loc[tax.nr_units> 0,['nr_units','owner_name_1','zoning']].groupby(\"owner_name_1\").size().sort_values(ascending=False).head(n=20)"
   ]
  },
  {
   "cell_type": "code",
   "execution_count": 26,
   "metadata": {},
   "outputs": [
    {
     "data": {
      "text/plain": [
       "Text(0, 0.5, 'count censored above 1,000')"
      ]
     },
     "execution_count": 26,
     "metadata": {},
     "output_type": "execute_result"
    },
    {
     "data": {
      "image/png": "[encoded data removed]",
      "text/plain": [
       "<Figure size 432x288 with 1 Axes>"
      ]
     },
     "metadata": {
      "needs_background": "light"
     },
     "output_type": "display_data"
    }
   ],
   "source": [
    "tax.nr_units[(tax.nr_units>2 ) & (tax.nr_units < 50)].hist()\n",
    "plt.ylim(0,1000)\n",
    "plt.title(\"Number of units owned by single owners\")\n",
    "plt.ylabel(\"count censored above 1,000\")"
   ]
  },
  {
   "cell_type": "code",
   "execution_count": 27,
   "metadata": {},
   "outputs": [
    {
     "name": "stdout",
     "output_type": "stream",
     "text": [
      "Number of observations: 150510\n",
      "Number of duplicated owner names: 30885\n",
      "Number of duplicated owner addresses: 35807\n",
      "Number of duplicated owner addresses or names: 42399\n",
      "Smallest number of groups: 108111\n"
     ]
    }
   ],
   "source": [
    "print(\"Number of observations: %d\" %tax.shape[0])\n",
    "print(\"Number of duplicated owner names: %d\" %tax.owner_name_1.duplicated().sum())\n",
    "print(\"Number of duplicated owner addresses: %d\" %tax.owner_mail_addr.duplicated().sum())\n",
    "print(\"Number of duplicated owner addresses or names: %d\" %(tax.owner_name_1.duplicated() | tax.owner_mail_addr.duplicated()).sum())\n",
    "print(\"Smallest number of groups: %d\" %(150510 - 42399))"
   ]
  },
  {
   "cell_type": "code",
   "execution_count": 28,
   "metadata": {},
   "outputs": [],
   "source": [
    "## map names to addresses assuming that first address is correct\n",
    "#s = tax.drop_duplicates('owner_mail_addr').set_index(\"owner_mail_addr\")['owner_name_1']\n",
    "#tax.loc[:,'name'] = tax['owner_mail_addr'].map(s)\n",
    "\n",
    "#tax.loc[:,'name'].unique().shape[0]"
   ]
  },
  {
   "cell_type": "code",
   "execution_count": 29,
   "metadata": {},
   "outputs": [
    {
     "data": {
      "text/plain": [
       "108529"
      ]
     },
     "execution_count": 29,
     "metadata": {},
     "output_type": "execute_result"
    }
   ],
   "source": [
    "## map names to addresses then addresses to names for consistency\n",
    "s = tax.drop_duplicates('owner_name_1').set_index(\"owner_name_1\")['owner_mail_addr']\n",
    "tax.loc[:,'addr'] = tax['owner_name_1'].map(s)\n",
    "\n",
    "k = tax.drop_duplicates('addr').set_index(\"addr\")['owner_name_1']\n",
    "tax.loc[:,'name'] = tax['addr'].map(k)\n",
    "\n",
    "tax.loc[:,'addr'].unique().shape[0]"
   ]
  },
  {
   "cell_type": "markdown",
   "metadata": {},
   "source": [
    "### Method aside:\n",
    "Ideally, I would capture both duplicated addresses and duplicated names depending on which one is duplicated. The problem is that, that's hard. The corresponding [stack](https://stackoverflow.com/questions/52865020/groupby-this-or-that) solutions, one of which was implemented, don't solve the problems. They get pretty close but still 400 owners off from the ideal answer and the ideal answer isn't even ideal due to inevitable remaining errors. In fact, Abhi's answers perform better than JPPs on this dataset **but** Abhi's doesn't preserve index and is more difficult to follow so I opt for JPPs. "
   ]
  },
  {
   "cell_type": "code",
   "execution_count": 30,
   "metadata": {},
   "outputs": [],
   "source": [
    "# implementation of stack overflow answers:\n",
    "\n",
    "### Abhi's modified answer from chat:\n",
    "## map owner_mail_addresses to owner_name_1s\n",
    "#mapper = tax.groupby(['owner_name_1','owner_mail_addr'],as_index=False).sum().drop_duplicates('owner_name_1',keep='first').set_index('owner_name_1').owner_mail_addr\n",
    "#tax.loc[:,'name1'] = tax.owner_name_1.map(mapper)\n",
    "\n",
    "### Abhi's initial answer:\n",
    "#tax.loc[:,'group'] = tax.groupby('owner_mail_addr').grouper.group_info[0]\n",
    "\n",
    "#d = {'owner_name_1':'first','nr_units':'sum'}\n",
    "#tax1 = tax.groupby('owner_name_1',as_index=False).sum().groupby('group').agg(d)\n",
    "#tax1.sort_values('owner_name_1')\n",
    "#tax1"
   ]
  },
  {
   "cell_type": "markdown",
   "metadata": {},
   "source": [
    "# Herfindahl–Hirschman Index(HHI)\n",
    "\n",
    "$$H = \\sum_{i=1}^{N} s^2_i$$ where $i$ is a firm, $N$ is the total number of firms, and $H$ is the industry index. There are two ways to measure index: number of units and number of properties. In some cases, number of units is marked as 0 but number of properties owned by such owners (ie City of Milwaukee) can be quite large. The current preferred method is number of units. "
   ]
  },
  {
   "cell_type": "code",
   "execution_count": 31,
   "metadata": {},
   "outputs": [
    {
     "data": {
      "text/plain": [
       "nr_units    0.004505\n",
       "dtype: float64"
      ]
     },
     "execution_count": 31,
     "metadata": {},
     "output_type": "execute_result"
    }
   ],
   "source": [
    "## city wide H index:\n",
    "unitsSample = tax.loc[tax.nr_units>0,['nr_units','name']].groupby('name')\n",
    "\n",
    "((unitsSample.sum()/unitsSample.ngroups)**2).sum()"
   ]
  },
  {
   "cell_type": "markdown",
   "metadata": {},
   "source": [
    "### Census Tract level index"
   ]
  },
  {
   "cell_type": "code",
   "execution_count": 32,
   "metadata": {},
   "outputs": [
    {
     "name": "stdout",
     "output_type": "stream",
     "text": [
      "Number of Census tracts in Milwaukee: 214\n"
     ]
    }
   ],
   "source": [
    "print(\"Number of Census tracts in Milwaukee: %d\" %tax.geo_tract.unique().shape[0])"
   ]
  },
  {
   "cell_type": "code",
   "execution_count": 33,
   "metadata": {},
   "outputs": [],
   "source": [
    "## group by owner and tract -> sum by owner and divide by num of units in tract -> square then sum by tract\n",
    "tractsSample = tax.loc[tax.nr_units>0,['nr_units','name','geo_tract']].groupby(['geo_tract','name'])\n",
    "tractsSampleProps = tax.loc[tax.nr_units>0,['taxkey','name','geo_tract']].groupby(['geo_tract','name'])"
   ]
  },
  {
   "cell_type": "code",
   "execution_count": 34,
   "metadata": {},
   "outputs": [],
   "source": [
    "## compute shares and sum squares by tract then select areas with more than 1 property\n",
    "sharesByTract =(tractsSample.sum()/tractsSample.sum().groupby(level=0).transform('sum'))\n",
    "tractHI =  (sharesByTract**2).groupby(level=0).sum()[tractsSampleProps.size().groupby(level=0).sum()>=2]"
   ]
  },
  {
   "cell_type": "code",
   "execution_count": 35,
   "metadata": {},
   "outputs": [
    {
     "name": "stdout",
     "output_type": "stream",
     "text": [
      "Number of tracts with over 10 units: 213\n",
      "Number of tracts with concentration over .2: 3\n"
     ]
    },
    {
     "data": {
      "image/png": "[encoded data removed]",
      "text/plain": [
       "<Figure size 1080x360 with 3 Axes>"
      ]
     },
     "metadata": {
      "needs_background": "light"
     },
     "output_type": "display_data"
    }
   ],
   "source": [
    "fig, axes = plt.subplots(1,3)\n",
    "fig.set_figheight(5)\n",
    "fig.set_figwidth(15)\n",
    "\n",
    "plasma = plt.get_cmap(\"cool\")\n",
    "colors = iter(plasma(np.linspace(0,1,len(axes.flatten()))))\n",
    "\n",
    "tractHI.hist(bins=15,ax=axes[0], color=next(colors))\n",
    "tractHI[tractsSample.sum().groupby(level=0).sum()>10].hist(bins=15,ax=axes[1], color=next(colors))\n",
    "tractHI[tractsSample.sum().groupby(level=0).sum()>20].hist(bins=15,ax=axes[2], color=next(colors))\n",
    "\n",
    "for ax,title in zip(axes.flatten(),['all HHI','tracts w >10 units', 'tracts w >20 units']):\n",
    "    ax.set_ylim(0,20)\n",
    "    ax.set_ylabel(\"HHI censored above 20\", fontsize = 18)\n",
    "    ax.set_title(title, fontsize = 20)\n",
    "    ax.set_yticks(np.arange(0,21,1))\n",
    "\n",
    "print(\"Number of tracts with over 10 units: %d\" %tractHI[tractsSample.sum().groupby(level=0).sum()>10].shape[0])        \n",
    "print(\"Number of tracts with concentration over .2: %d\" %(tractHI[tractsSample.sum().groupby(level=0).sum()>10]>=.2).sum())     \n",
    "    \n",
    "plt.savefig(\"/\".join([data_path, 'HHI_tract.png']))    "
   ]
  },
  {
   "cell_type": "markdown",
   "metadata": {},
   "source": [
    "As can be seen between the 2 histograms immediately above, if there is any concentraion in market at the tract level, it seems it is due to census tracts with small number of units. However, once we exclude tracts with less than 10 units, it seems HHI stabilizes. "
   ]
  },
  {
   "cell_type": "markdown",
   "metadata": {},
   "source": [
    "### Census Block Group level index"
   ]
  },
  {
   "cell_type": "code",
   "execution_count": 36,
   "metadata": {},
   "outputs": [
    {
     "name": "stdout",
     "output_type": "stream",
     "text": [
      "Number of unique block groups: 580\n"
     ]
    }
   ],
   "source": [
    "tax['tractblockgroup'] = tax.geo_tract.astype(str)+\".\"+tax.geo_blockgroup.astype(str)\n",
    "print(\"Number of unique block groups: %d\" %tax.tractblockgroup.unique().shape[0])"
   ]
  },
  {
   "cell_type": "code",
   "execution_count": 37,
   "metadata": {},
   "outputs": [],
   "source": [
    "groupSample = tax.loc[tax.nr_units>0,['nr_units','name','tractblockgroup']].groupby(['tractblockgroup','name'])\n",
    "\n",
    "groupSampleProps = tax.loc[tax.nr_units>0,['taxkey','tractblockgroup']].groupby(['tractblockgroup']).size() #find number of props in block group\n",
    "sharesByGroup =(groupSample.nr_units.sum()/groupSample.nr_units.sum().groupby(level=0).transform('sum'))\n",
    "groupsHI =  pd.concat([(sharesByGroup**2).groupby(level=0).sum(),groupSampleProps,groupSample.sum().groupby(level=0).sum()],axis=1,keys=['HHI','nrProps','nrUnits'])\n",
    "groupsHI.columns = groupsHI.columns.droplevel(level=1)"
   ]
  },
  {
   "cell_type": "code",
   "execution_count": 38,
   "metadata": {},
   "outputs": [
    {
     "name": "stdout",
     "output_type": "stream",
     "text": [
      "Number of block groups with more than 1 property: 574\n",
      "Number of groups with more than 10 units and 1 property with concentration over .2: 20\n"
     ]
    },
    {
     "data": {
      "image/png": "[encoded data removed]",
      "text/plain": [
       "<Figure size 1080x360 with 3 Axes>"
      ]
     },
     "metadata": {
      "needs_background": "light"
     },
     "output_type": "display_data"
    }
   ],
   "source": [
    "fig, axes = plt.subplots(1,3)\n",
    "fig.set_figheight(5)\n",
    "fig.set_figwidth(15)\n",
    "\n",
    "plasma = plt.get_cmap(\"cool\")\n",
    "colors = iter(plasma(np.linspace(0,1,len(axes.flatten()))))\n",
    "\n",
    "groupsHI.HHI.hist(bins=15,ax=axes[0], color=next(colors))\n",
    "groupsHI.loc[(groupsHI.nrProps>1),'HHI'].hist(bins=15,ax=axes[1], color=next(colors))\n",
    "groupsHI.loc[(groupsHI.nrUnits>10) & (groupsHI.nrProps>1),'HHI'].hist(bins=15,ax=axes[2], color=next(colors))\n",
    "\n",
    "for ax,title in zip(axes.flatten(),['HHIs at block group level','block group w \\n>1 props', 'block group w/ \\n>10 units and >1 props']):\n",
    "    cens = 40\n",
    "    ax.set_ylim(0,cens)\n",
    "    ax.set_ylabel(\"HHI censored above %d\" %cens, fontsize = 18)\n",
    "    ax.set_title(title, fontsize = 20)\n",
    "    ax.set_yticks(np.arange(0,42,2))\n",
    "    \n",
    "print(\"Number of block groups with more than 1 property: %d\" %(groupsHI.nrProps>1).sum())\n",
    "print(\"Number of groups with more than 10 units and 1 property with concentration over .2: %d\" %(groupsHI[(groupsHI.nrUnits>10) & (groupsHI.nrProps>1)].HHI>=.2).sum())  \n",
    "plt.savefig(\"/\".join([data_path, 'HHI_blockgroup.png']))    "
   ]
  },
  {
   "cell_type": "markdown",
   "metadata": {},
   "source": [
    "Census block group level is virtually the same as census tract level though not surprisingly since once is only twice as small as the other. As before, excluding small number of units seems to fix things a bit "
   ]
  },
  {
   "cell_type": "markdown",
   "metadata": {},
   "source": [
    "### Census Block level index:"
   ]
  },
  {
   "cell_type": "code",
   "execution_count": 39,
   "metadata": {},
   "outputs": [
    {
     "name": "stdout",
     "output_type": "stream",
     "text": [
      "Number of unique blocks: 6241\n"
     ]
    }
   ],
   "source": [
    "tax['tractblock'] = tax.geo_tract.astype(str)+\".\"+tax.geo_block.astype(str)\n",
    "print(\"Number of unique blocks: %d\" %tax.tractblock.unique().shape[0])"
   ]
  },
  {
   "cell_type": "code",
   "execution_count": 40,
   "metadata": {},
   "outputs": [],
   "source": [
    "## group by owner and block -> sum by owner and divide by num of units in tract -> square then sum by block\n",
    "blocksSample = tax.loc[tax.nr_units>0,['nr_units','name','tractblock']].groupby(['tractblock','name'])\n",
    "blocksSampleProps = tax.loc[tax.nr_units>0,['taxkey','tractblock']].groupby(['tractblock']).size()\n",
    "\n",
    "sharesByBlock =(blocksSample.sum()/blocksSample.sum().groupby(level=0).transform('sum'))\n",
    "blocksHI =  pd.concat([(sharesByBlock**2).groupby(level=0).sum(), blocksSampleProps, blocksSample.sum().groupby(level=0).sum()], axis=1, keys = ['HHI','nrProps','nrUnits'])\n",
    "blocksHI.columns = blocksHI.columns.droplevel(level=1)"
   ]
  },
  {
   "cell_type": "code",
   "execution_count": 41,
   "metadata": {},
   "outputs": [
    {
     "name": "stdout",
     "output_type": "stream",
     "text": [
      "Number of blocks with over 10 units: 5461\n",
      "Number of blocks with HHI over .2: 580\n"
     ]
    },
    {
     "data": {
      "image/png": "[encoded data removed]",
      "text/plain": [
       "<Figure size 1080x360 with 3 Axes>"
      ]
     },
     "metadata": {
      "needs_background": "light"
     },
     "output_type": "display_data"
    }
   ],
   "source": [
    "fig, axes = plt.subplots(1,3)\n",
    "fig.set_figheight(5)\n",
    "fig.set_figwidth(15)\n",
    "\n",
    "plasma = plt.get_cmap(\"cool\")\n",
    "colors = iter(plasma(np.linspace(0,1,len(axes.flatten()))))\n",
    "\n",
    "blocksHI.HHI.hist(bins=15,ax=axes[0], color=next(colors))\n",
    "blocksHI[blocksHI.nrProps>1].HHI.hist(bins=15,ax=axes[1], color=next(colors))\n",
    "blocksHI[(blocksHI.nrProps>1) & (blocksHI.nrUnits>10)].HHI.hist(bins=15,ax=axes[2], color=next(colors))\n",
    "\n",
    "for ax,title in zip(axes.flatten(),['HHI at block level','blocks w \\n>1 properties', 'blocks w \\n>10 units & >1 properties']):\n",
    "    cens = 100\n",
    "    ax.set_ylim(0,cens)\n",
    "    ax.set_ylabel(\"HHI censored at over %d\" %cens, fontsize =18)\n",
    "    ax.set_title(title, fontsize = 20)\n",
    "    ax.set_yticks(np.arange(0,110,10))\n",
    "    \n",
    "print(\"Number of blocks with over 10 units: %d\" %((blocksHI.nrProps>1) & (blocksHI.nrUnits>10)).sum() )   \n",
    "print(\"Number of blocks with HHI over .2: %d\" %((blocksHI.HHI>=.2) &  (blocksHI.nrProps>1) & (blocksHI.nrUnits>10)).sum())    \n",
    "plt.savefig(\"/\".join([data_path, 'HHI_block.png']))    "
   ]
  },
  {
   "cell_type": "code",
   "execution_count": 42,
   "metadata": {},
   "outputs": [
    {
     "name": "stdout",
     "output_type": "stream",
     "text": [
      "largest owners in high concentration blocks\n"
     ]
    },
    {
     "data": {
      "text/html": [
       "<div>\n",
       "<style scoped>\n",
       "    .dataframe tbody tr th:only-of-type {\n",
       "        vertical-align: middle;\n",
       "    }\n",
       "\n",
       "    .dataframe tbody tr th {\n",
       "        vertical-align: top;\n",
       "    }\n",
       "\n",
       "    .dataframe thead th {\n",
       "        text-align: right;\n",
       "    }\n",
       "</style>\n",
       "<table border=\"1\" class=\"dataframe\">\n",
       "  <thead>\n",
       "    <tr style=\"text-align: right;\">\n",
       "      <th></th>\n",
       "      <th>name</th>\n",
       "      <th>nr_units</th>\n",
       "    </tr>\n",
       "    <tr>\n",
       "      <th>tractblock</th>\n",
       "      <th></th>\n",
       "      <th></th>\n",
       "    </tr>\n",
       "  </thead>\n",
       "  <tbody>\n",
       "    <tr>\n",
       "      <th>11300.1005</th>\n",
       "      <td>PRESIDIO SQUARE APTS LLC</td>\n",
       "      <td>390</td>\n",
       "    </tr>\n",
       "    <tr>\n",
       "      <th>20100.3016</th>\n",
       "      <td>CITY OF MILWAUKEE</td>\n",
       "      <td>325</td>\n",
       "    </tr>\n",
       "    <tr>\n",
       "      <th>187000.1010</th>\n",
       "      <td>PRESIDIO SQUARE APTS LLC</td>\n",
       "      <td>274</td>\n",
       "    </tr>\n",
       "    <tr>\n",
       "      <th>900.2007</th>\n",
       "      <td>6800 TEUTONIA CORPORATION</td>\n",
       "      <td>264</td>\n",
       "    </tr>\n",
       "    <tr>\n",
       "      <th>800.1007</th>\n",
       "      <td>PRESIDIO SQUARE APTS LLC</td>\n",
       "      <td>248</td>\n",
       "    </tr>\n",
       "    <tr>\n",
       "      <th>2300.4000</th>\n",
       "      <td>CITY OF MILW</td>\n",
       "      <td>246</td>\n",
       "    </tr>\n",
       "    <tr>\n",
       "      <th>21300.1000</th>\n",
       "      <td>COVENANT COMMUNITIES INC</td>\n",
       "      <td>242</td>\n",
       "    </tr>\n",
       "    <tr>\n",
       "      <th>14700.1001</th>\n",
       "      <td>NORTHSIDE NEIGHBORHOOD</td>\n",
       "      <td>239</td>\n",
       "    </tr>\n",
       "    <tr>\n",
       "      <th>202.3015</th>\n",
       "      <td>WI ST JAMES ON FOUNTAIN LLC</td>\n",
       "      <td>236</td>\n",
       "    </tr>\n",
       "    <tr>\n",
       "      <th>14800.2005</th>\n",
       "      <td>MARQ LLC</td>\n",
       "      <td>230</td>\n",
       "    </tr>\n",
       "    <tr>\n",
       "      <th>2300.4006</th>\n",
       "      <td>NEW HAMPTON GARDENS LLP</td>\n",
       "      <td>229</td>\n",
       "    </tr>\n",
       "    <tr>\n",
       "      <th>187400.1103</th>\n",
       "      <td>AT 2735 MURRAY LLC</td>\n",
       "      <td>227</td>\n",
       "    </tr>\n",
       "    <tr>\n",
       "      <th>187400.1102</th>\n",
       "      <td>PRESIDIO SQUARE APTS LLC</td>\n",
       "      <td>214</td>\n",
       "    </tr>\n",
       "    <tr>\n",
       "      <th>186300.2018</th>\n",
       "      <td>401 W MICHIGAN ST MILW LLC</td>\n",
       "      <td>206</td>\n",
       "    </tr>\n",
       "    <tr>\n",
       "      <th>14400.2003</th>\n",
       "      <td>YANKEE HILL HSG PTNRS LP</td>\n",
       "      <td>202</td>\n",
       "    </tr>\n",
       "  </tbody>\n",
       "</table>\n",
       "</div>"
      ],
      "text/plain": [
       "                                    name  nr_units\n",
       "tractblock                                        \n",
       "11300.1005      PRESIDIO SQUARE APTS LLC       390\n",
       "20100.3016             CITY OF MILWAUKEE       325\n",
       "187000.1010     PRESIDIO SQUARE APTS LLC       274\n",
       "900.2007       6800 TEUTONIA CORPORATION       264\n",
       "800.1007        PRESIDIO SQUARE APTS LLC       248\n",
       "2300.4000                   CITY OF MILW       246\n",
       "21300.1000      COVENANT COMMUNITIES INC       242\n",
       "14700.1001        NORTHSIDE NEIGHBORHOOD       239\n",
       "202.3015     WI ST JAMES ON FOUNTAIN LLC       236\n",
       "14800.2005                      MARQ LLC       230\n",
       "2300.4006        NEW HAMPTON GARDENS LLP       229\n",
       "187400.1103           AT 2735 MURRAY LLC       227\n",
       "187400.1102     PRESIDIO SQUARE APTS LLC       214\n",
       "186300.2018   401 W MICHIGAN ST MILW LLC       206\n",
       "14400.2003      YANKEE HILL HSG PTNRS LP       202"
      ]
     },
     "execution_count": 42,
     "metadata": {},
     "output_type": "execute_result"
    }
   ],
   "source": [
    "print(\"largest owners in high concentration blocks\")\n",
    "HighContrBlocks = blocksHI.HHI[blocksHI.HHI>.9].index\n",
    "toLatex(blocksSample.sum().reset_index(level=1).loc[HighContrBlocks].sort_values('nr_units',ascending=False).head(n=15),\"largestOwners.tex\")"
   ]
  },
  {
   "cell_type": "code",
   "execution_count": 43,
   "metadata": {},
   "outputs": [
    {
     "data": {
      "text/html": [
       "<div>\n",
       "<style scoped>\n",
       "    .dataframe tbody tr th:only-of-type {\n",
       "        vertical-align: middle;\n",
       "    }\n",
       "\n",
       "    .dataframe tbody tr th {\n",
       "        vertical-align: top;\n",
       "    }\n",
       "\n",
       "    .dataframe thead th {\n",
       "        text-align: right;\n",
       "    }\n",
       "</style>\n",
       "<table border=\"1\" class=\"dataframe\">\n",
       "  <thead>\n",
       "    <tr style=\"text-align: right;\">\n",
       "      <th></th>\n",
       "      <th>HHI</th>\n",
       "      <th>nrProps</th>\n",
       "      <th>nrUnits</th>\n",
       "    </tr>\n",
       "    <tr>\n",
       "      <th>tractblock</th>\n",
       "      <th></th>\n",
       "      <th></th>\n",
       "      <th></th>\n",
       "    </tr>\n",
       "  </thead>\n",
       "  <tbody>\n",
       "    <tr>\n",
       "      <th>1000.1000</th>\n",
       "      <td>1.0</td>\n",
       "      <td>1</td>\n",
       "      <td>4</td>\n",
       "    </tr>\n",
       "    <tr>\n",
       "      <th>1000.1012</th>\n",
       "      <td>1.0</td>\n",
       "      <td>5</td>\n",
       "      <td>5</td>\n",
       "    </tr>\n",
       "    <tr>\n",
       "      <th>101.1003</th>\n",
       "      <td>1.0</td>\n",
       "      <td>1</td>\n",
       "      <td>72</td>\n",
       "    </tr>\n",
       "    <tr>\n",
       "      <th>102.2000</th>\n",
       "      <td>1.0</td>\n",
       "      <td>1</td>\n",
       "      <td>1</td>\n",
       "    </tr>\n",
       "    <tr>\n",
       "      <th>102.2009</th>\n",
       "      <td>1.0</td>\n",
       "      <td>1</td>\n",
       "      <td>1</td>\n",
       "    </tr>\n",
       "    <tr>\n",
       "      <th>10700.2017</th>\n",
       "      <td>1.0</td>\n",
       "      <td>1</td>\n",
       "      <td>46</td>\n",
       "    </tr>\n",
       "    <tr>\n",
       "      <th>10700.2025</th>\n",
       "      <td>1.0</td>\n",
       "      <td>2</td>\n",
       "      <td>114</td>\n",
       "    </tr>\n",
       "    <tr>\n",
       "      <th>10800.1000</th>\n",
       "      <td>1.0</td>\n",
       "      <td>1</td>\n",
       "      <td>1</td>\n",
       "    </tr>\n",
       "    <tr>\n",
       "      <th>10800.1002</th>\n",
       "      <td>1.0</td>\n",
       "      <td>1</td>\n",
       "      <td>12</td>\n",
       "    </tr>\n",
       "    <tr>\n",
       "      <th>10800.1004</th>\n",
       "      <td>1.0</td>\n",
       "      <td>1</td>\n",
       "      <td>1</td>\n",
       "    </tr>\n",
       "    <tr>\n",
       "      <th>1100.2003</th>\n",
       "      <td>1.0</td>\n",
       "      <td>1</td>\n",
       "      <td>39</td>\n",
       "    </tr>\n",
       "    <tr>\n",
       "      <th>11100.2000</th>\n",
       "      <td>1.0</td>\n",
       "      <td>1</td>\n",
       "      <td>82</td>\n",
       "    </tr>\n",
       "    <tr>\n",
       "      <th>11100.2001</th>\n",
       "      <td>1.0</td>\n",
       "      <td>1</td>\n",
       "      <td>24</td>\n",
       "    </tr>\n",
       "    <tr>\n",
       "      <th>11100.2002</th>\n",
       "      <td>1.0</td>\n",
       "      <td>1</td>\n",
       "      <td>82</td>\n",
       "    </tr>\n",
       "    <tr>\n",
       "      <th>11100.2006</th>\n",
       "      <td>1.0</td>\n",
       "      <td>1</td>\n",
       "      <td>143</td>\n",
       "    </tr>\n",
       "  </tbody>\n",
       "</table>\n",
       "</div>"
      ],
      "text/plain": [
       "            HHI  nrProps  nrUnits\n",
       "tractblock                       \n",
       "1000.1000   1.0        1        4\n",
       "1000.1012   1.0        5        5\n",
       "101.1003    1.0        1       72\n",
       "102.2000    1.0        1        1\n",
       "102.2009    1.0        1        1\n",
       "10700.2017  1.0        1       46\n",
       "10700.2025  1.0        2      114\n",
       "10800.1000  1.0        1        1\n",
       "10800.1002  1.0        1       12\n",
       "10800.1004  1.0        1        1\n",
       "1100.2003   1.0        1       39\n",
       "11100.2000  1.0        1       82\n",
       "11100.2001  1.0        1       24\n",
       "11100.2002  1.0        1       82\n",
       "11100.2006  1.0        1      143"
      ]
     },
     "execution_count": 43,
     "metadata": {},
     "output_type": "execute_result"
    }
   ],
   "source": [
    "blocksHI.loc[(blocksHI.HHI>.9),:].head(n=15)\n",
    "## Many of the high HHIs correspond with only 1 property on the block"
   ]
  },
  {
   "cell_type": "code",
   "execution_count": 44,
   "metadata": {},
   "outputs": [
    {
     "name": "stdout",
     "output_type": "stream",
     "text": [
      "Of HHIs equal to 1, proportion with only 1 property: 0.86\n",
      "Of HHIs greater than 20%, proportion with only 1 property: 0.18\n"
     ]
    }
   ],
   "source": [
    "print(\"Of HHIs equal to 1, proportion with only 1 property: %.2f\" %(((blocksHI.HHI ==1) & (blocksHI.nrProps==1)).sum()/(blocksHI.HHI== 1).sum()))\n",
    "print(\"Of HHIs greater than 20%%, proportion with only 1 property: %.2f\" %(((blocksHI.HHI >.2) & (blocksHI.nrProps==1)).sum()/(blocksHI.HHI >.2).sum()))"
   ]
  },
  {
   "cell_type": "markdown",
   "metadata": {},
   "source": [
    "Same as the tract level, HHI is inflated when blocks with very few units is included but once we restrict to blocks with more than 10 units, HHI seems to stablize. "
   ]
  },
  {
   "cell_type": "markdown",
   "metadata": {},
   "source": [
    "## Attach ACS data"
   ]
  },
  {
   "cell_type": "code",
   "execution_count": 45,
   "metadata": {},
   "outputs": [],
   "source": [
    "## remove block groups and blocks with less than 10 units\n",
    "#groupsHI = groupsHI[groupSample.sum().groupby(level=0).sum()>=10]\n",
    "#blocksHI = blocksHI[blocksSample.sum().groupby(level=0).sum()>=10]"
   ]
  },
  {
   "cell_type": "code",
   "execution_count": 46,
   "metadata": {},
   "outputs": [],
   "source": [
    "## load ACS data and examine tracts/block groups where there are high shares of low income households, blacks, or renters\n",
    "block = pd.read_csv(\"/\".join([data_path, '2010 Census Block Data Milwaukee.csv']))\n",
    "group = pd.read_csv(\"/\".join([data_path, '2011-2015 ACS block group Milwaukee.csv']))\n",
    "groupRents = pd.read_csv(\"/\".join([data_path, '2011-2015 ACS block group rents Milwaukee.csv']))\n",
    "\n",
    "group.columns = group.columns.str.lower().str.replace(\":|,\",'')\n",
    "block.columns = block.columns.str.lower().str.replace(\":|,\",'')\n",
    "groupRents.columns = groupRents.columns.str.lower().str.replace(\":|,|\\$\",\"\")\n",
    "\n",
    "block.drop(['area name-legal/statistical area description', 'qualifying name',\n",
    "       'area (land)', 'area (water)', 'summary level', 'geographic component',\n",
    "       'region', 'division', 'fips', 'state (fips)', 'county'],axis=1,inplace=True)\n",
    "\n",
    "group.drop(['fips'],inplace=True,axis=1)\n",
    "\n",
    "block.columns = block.columns.str.replace(\"\\([\\w\\s\\.]+\\)|\\.1\",'').str.strip()\n",
    "group.columns = group.columns.str.replace(\"\\([\\w\\s\\.]+\\)|\\.1\",'').str.strip()\n",
    "\n",
    "block.loc[:,'blockgroup'] = block.block.astype(str)[:1]\n",
    "\n",
    "block = block.loc[:,~block.columns.duplicated()]\n",
    "group = group.loc[:,~group.columns.duplicated()]\n",
    "block.loc[:,'tractblock'] = block.loc[:,'census tract'].astype(str)+\".\"+block.loc[:,'block'].astype(str)"
   ]
  },
  {
   "cell_type": "code",
   "execution_count": 47,
   "metadata": {},
   "outputs": [
    {
     "name": "stdout",
     "output_type": "stream",
     "text": [
      "Number of housing units according to Census blocks: 418053\n"
     ]
    }
   ],
   "source": [
    "print(\"Number of housing units according to Census blocks: %d\" %block.loc[:,'housing units'].sum())"
   ]
  },
  {
   "cell_type": "code",
   "execution_count": 48,
   "metadata": {},
   "outputs": [],
   "source": [
    "## merge block level data to block level HHI\n",
    "\n",
    "blocksHI = blocksHI.merge(block, left_index=True, right_on='tractblock',how='left')"
   ]
  },
  {
   "cell_type": "code",
   "execution_count": 49,
   "metadata": {},
   "outputs": [
    {
     "name": "stderr",
     "output_type": "stream",
     "text": [
      "C:\\Users\\SpiffyApple\\Anaconda3\\lib\\site-packages\\ipykernel_launcher.py:1: RuntimeWarning: invalid value encountered in true_divide\n",
      "  \"\"\"Entry point for launching an IPython kernel.\n",
      "C:\\Users\\SpiffyApple\\Anaconda3\\lib\\site-packages\\ipykernel_launcher.py:2: RuntimeWarning: invalid value encountered in true_divide\n",
      "  \n",
      "C:\\Users\\SpiffyApple\\Anaconda3\\lib\\site-packages\\ipykernel_launcher.py:3: RuntimeWarning: invalid value encountered in true_divide\n",
      "  This is separate from the ipykernel package so we can avoid doing imports until\n",
      "C:\\Users\\SpiffyApple\\Anaconda3\\lib\\site-packages\\ipykernel_launcher.py:4: RuntimeWarning: invalid value encountered in true_divide\n",
      "  after removing the cwd from sys.path.\n"
     ]
    }
   ],
   "source": [
    "blocksHI['propBlack'] = np.divide(blocksHI.loc[:,'total population black or african american alone'],blocksHI.loc[:,'total population'])\n",
    "blocksHI['propOver65'] = np.divide(blocksHI.loc[:,'total population 65 and over'],blocksHI.loc[:,'total population'])\n",
    "blocksHI['propRent'] = np.divide(blocksHI.loc[:,'occupied housing units renter occupied'],blocksHI.loc[:,'occupied housing units'])\n",
    "blocksHI['propVacant'] = np.divide(blocksHI.loc[:,'housing units vacant'],blocksHI.loc[:,'housing units'])"
   ]
  },
  {
   "cell_type": "code",
   "execution_count": 50,
   "metadata": {},
   "outputs": [],
   "source": [
    "#drop blocks with unavialable census tract or block data\n",
    "blocksHI = blocksHI[(blocksHI.block.notnull() & blocksHI.loc[:,'census tract'].notnull())]"
   ]
  },
  {
   "cell_type": "code",
   "execution_count": 51,
   "metadata": {},
   "outputs": [
    {
     "data": {
      "text/plain": [
       "0.00       0.0\n",
       "0.10      11.0\n",
       "0.25      21.0\n",
       "0.50      32.0\n",
       "0.75      47.0\n",
       "0.90      71.0\n",
       "1.00    1622.0\n",
       "Name: housing units, dtype: float64"
      ]
     },
     "execution_count": 51,
     "metadata": {},
     "output_type": "execute_result"
    }
   ],
   "source": [
    "blocksHI.loc[:,'housing units'].quantile([0,.1,.25,.5,.75,.9,1])"
   ]
  },
  {
   "cell_type": "code",
   "execution_count": 52,
   "metadata": {},
   "outputs": [
    {
     "name": "stdout",
     "output_type": "stream",
     "text": [
      "Number of properties with no housing units: 83\n"
     ]
    }
   ],
   "source": [
    "print(\"Number of properties with no housing units: %d\" %(blocksHI.loc[:,'housing units'] == 0).sum())"
   ]
  },
  {
   "cell_type": "code",
   "execution_count": 53,
   "metadata": {},
   "outputs": [
    {
     "name": "stdout",
     "output_type": "stream",
     "text": [
      "HHI and population for blocks with 0 housing units:\n"
     ]
    },
    {
     "data": {
      "text/html": [
       "<div>\n",
       "<style scoped>\n",
       "    .dataframe tbody tr th:only-of-type {\n",
       "        vertical-align: middle;\n",
       "    }\n",
       "\n",
       "    .dataframe tbody tr th {\n",
       "        vertical-align: top;\n",
       "    }\n",
       "\n",
       "    .dataframe thead th {\n",
       "        text-align: right;\n",
       "    }\n",
       "</style>\n",
       "<table border=\"1\" class=\"dataframe\">\n",
       "  <thead>\n",
       "    <tr style=\"text-align: right;\">\n",
       "      <th></th>\n",
       "      <th>HHI</th>\n",
       "      <th>total population</th>\n",
       "    </tr>\n",
       "  </thead>\n",
       "  <tbody>\n",
       "    <tr>\n",
       "      <th>13113</th>\n",
       "      <td>1.000</td>\n",
       "      <td>78.0</td>\n",
       "    </tr>\n",
       "    <tr>\n",
       "      <th>31</th>\n",
       "      <td>1.000</td>\n",
       "      <td>0.0</td>\n",
       "    </tr>\n",
       "    <tr>\n",
       "      <th>6832</th>\n",
       "      <td>1.000</td>\n",
       "      <td>0.0</td>\n",
       "    </tr>\n",
       "    <tr>\n",
       "      <th>1410</th>\n",
       "      <td>1.000</td>\n",
       "      <td>0.0</td>\n",
       "    </tr>\n",
       "    <tr>\n",
       "      <th>266</th>\n",
       "      <td>0.125</td>\n",
       "      <td>0.0</td>\n",
       "    </tr>\n",
       "  </tbody>\n",
       "</table>\n",
       "</div>"
      ],
      "text/plain": [
       "         HHI  total population\n",
       "13113  1.000              78.0\n",
       "31     1.000               0.0\n",
       "6832   1.000               0.0\n",
       "1410   1.000               0.0\n",
       "266    0.125               0.0"
      ]
     },
     "execution_count": 53,
     "metadata": {},
     "output_type": "execute_result"
    }
   ],
   "source": [
    "print(\"HHI and population for blocks with 0 housing units:\")\n",
    "blocksHI.loc[(blocksHI.loc[:,'housing units'] == 0),['HHI','total population']].sort_values('total population',ascending=False).head()"
   ]
  },
  {
   "cell_type": "code",
   "execution_count": 54,
   "metadata": {},
   "outputs": [
    {
     "name": "stdout",
     "output_type": "stream",
     "text": [
      "Maybe remove HHIs with 0 population or housing units\n"
     ]
    }
   ],
   "source": [
    "print(\"Maybe remove HHIs with 0 population or housing units\")"
   ]
  },
  {
   "cell_type": "code",
   "execution_count": 55,
   "metadata": {},
   "outputs": [
    {
     "data": {
      "text/plain": [
       "Index(['HHI', 'nrProps', 'nrUnits', 'census tract', 'block',\n",
       "       'total population', 'population density', 'area',\n",
       "       'total population under 18 years', 'total population 18 to 34 years',\n",
       "       'total population 35 to 64 years', 'total population 65 and over',\n",
       "       'median age', 'median age male', 'median age female',\n",
       "       'total population white alone',\n",
       "       'total population black or african american alone',\n",
       "       'total population american indian and alaska native alone',\n",
       "       'total population asian alone',\n",
       "       'total population native hawaiian and other pacific islander alone',\n",
       "       'total population some other race alone',\n",
       "       'total population two or more races', 'housing units',\n",
       "       'occupied housing units', 'occupied housing units owner occupied',\n",
       "       'occupied housing units renter occupied', 'housing units occupied',\n",
       "       'housing units vacant', 'blockgroup', 'tractblock', 'propBlack',\n",
       "       'propOver65', 'propRent', 'propVacant'],\n",
       "      dtype='object')"
      ]
     },
     "execution_count": 55,
     "metadata": {},
     "output_type": "execute_result"
    }
   ],
   "source": [
    "blocksHI.columns"
   ]
  },
  {
   "cell_type": "markdown",
   "metadata": {},
   "source": [
    "## Analysis "
   ]
  },
  {
   "cell_type": "code",
   "execution_count": 56,
   "metadata": {},
   "outputs": [],
   "source": [
    "# upload Tiger file, merge across tracts and blocks so my data have GEOID10 IDs that can be matched to shape files\n",
    "toMap = blocksHI.merge(tigers, left_on = ['census tract','block'], right_on = ['TRACTCE10', 'BLOCKCE10'],how='outer')\n",
    "toMap.columns = toMap.columns.str.title().str.replace(\" \",\"\")\n",
    "toMap.to_csv(\"/\".join([data_path,'blocksHHI.csv']))\n",
    "toMap.to_excel(\"/\".join([data_path, \"blocksHHI.xlsx\"]))"
   ]
  },
  {
   "cell_type": "code",
   "execution_count": 57,
   "metadata": {},
   "outputs": [
    {
     "data": {
      "text/plain": [
       "0.00       0.0\n",
       "0.25      49.0\n",
       "0.50      77.0\n",
       "0.75     116.0\n",
       "1.00    2172.0\n",
       "Name: TotalPopulation, dtype: float64"
      ]
     },
     "execution_count": 57,
     "metadata": {},
     "output_type": "execute_result"
    }
   ],
   "source": [
    "toMap.TotalPopulation.dropna().quantile([0,.25,.5,.75,1])"
   ]
  },
  {
   "cell_type": "code",
   "execution_count": 58,
   "metadata": {},
   "outputs": [],
   "source": [
    "## merge block group level data to group level HHI \n",
    "group.loc[:,'tractgroup'] = group.loc[:,'census tract'].astype(str)+\".\"+group.loc[:,'block group'].astype(str)\n",
    "groupRents.loc[:,'tractgroup'] = groupRents.loc[:,'census tract'].astype(str)+\".\"+groupRents.loc[:,'block group'].astype(str)\n",
    "\n",
    "groupsHI = groupsHI.merge(group, left_index=True, right_on= 'tractgroup', how='left').merge(groupRents, how='left',on='tractgroup')"
   ]
  },
  {
   "cell_type": "code",
   "execution_count": 59,
   "metadata": {},
   "outputs": [],
   "source": [
    "#groupsHI.rename(columns = {\"nr_units\":'hhi'},inplace=True)"
   ]
  },
  {
   "cell_type": "code",
   "execution_count": 60,
   "metadata": {},
   "outputs": [],
   "source": [
    "groupsHI['propBlack'] = np.divide(groupsHI.loc[:,'total population black or african american alone'],groupsHI.loc[:,'total population'])\n",
    "groupsHI['propOver65'] = np.divide(groupsHI.loc[:,'total population 65 and over'],groupsHI.loc[:,'total population'])\n",
    "groupsHI['propRent'] = np.divide(groupsHI.loc[:,'occupied housing units renter occupied'],groupsHI.loc[:,'occupied housing units'])\n",
    "groupsHI['propVacant'] = np.divide(groupsHI.loc[:,'housing units vacant'],groupsHI.loc[:,'housing units'])\n",
    "groupsHI['unemployment'] = np.divide(groupsHI.loc[:,'population 16 years and over in labor force civilian unemployed'],groupsHI.loc[:,'population 16 years and over in labor force civilian',])\n",
    "groupsHI['unitsPerPerson'] = np.divide(groupsHI.loc[:,'total population'],groupsHI.loc[:,'housing units'])"
   ]
  },
  {
   "cell_type": "code",
   "execution_count": 62,
   "metadata": {},
   "outputs": [
    {
     "name": "stderr",
     "output_type": "stream",
     "text": [
      "C:\\Users\\SpiffyApple\\Anaconda3\\lib\\site-packages\\ipykernel_launcher.py:8: RuntimeWarning: invalid value encountered in true_divide\n",
      "  \n"
     ]
    },
    {
     "data": {
      "text/plain": [
       "0    rent 600 to 799\n",
       "dtype: object"
      ]
     },
     "execution_count": 62,
     "metadata": {},
     "output_type": "execute_result"
    }
   ],
   "source": [
    "rentDistr = np.divide(groupsHI[['renter-occupied housing units with cash rent less than 300',\n",
    "       'renter-occupied housing units with cash rent 300 to 599',\n",
    "       'renter-occupied housing units with cash rent 600 to 799',\n",
    "       'renter-occupied housing units with cash rent 800 to 999',\n",
    "       'renter-occupied housing units with cash rent 1000 to 1249',\n",
    "       'renter-occupied housing units with cash rent 1250 to 1499',\n",
    "       'renter-occupied housing units with cash rent 1500 to 1999',\n",
    "       'renter-occupied housing units with cash rent 2000 or more']],groupsHI['renter-occupied housing units with cash rent'].values.reshape(groupsHI.shape[0],1))\n",
    "\n",
    "rentDistr.columns = rentDistr.columns.str.replace(\"renter-occupied housing units with cash \",'')\n",
    "\n",
    "rentDistrCols = rentDistr.columns\n",
    "#groupsHI = pd.concat([groupsHI, rentDistr],axis=1)\n",
    "\n",
    "## most prevalent rent range in the data:\n",
    "rentDistr.idxmax(axis=1).mode()"
   ]
  },
  {
   "cell_type": "code",
   "execution_count": 63,
   "metadata": {},
   "outputs": [],
   "source": [
    "groupsHousing = pd.read_excel(\"/\".join([data_path, '2012-2016blockGroupACS.xlsx']))\n",
    "groupsHousing.columns = groupsHousing.columns.str.replace(\"'|\\$|,|\\:|\\-|Occupied|Housing|Units|Cash| Rent|with |\\([\\w\\s]+\\)\",\"\").str.replace(\"  \",\" \").str.strip().str.lower()\n",
    "groupsHousing.columns = groupsHousing.columns.str.replace(\" \",\"_\")"
   ]
  },
  {
   "cell_type": "code",
   "execution_count": 64,
   "metadata": {},
   "outputs": [],
   "source": [
    "groupsHI = groupsHI.merge(groupsHousing, left_on = ['census tract_x','block group_x'], right_on= ['census_tract', 'block_group'],how='left')"
   ]
  },
  {
   "cell_type": "code",
   "execution_count": 65,
   "metadata": {},
   "outputs": [],
   "source": [
    "groupsHI.loc[:,'propCheap'] = np.divide(groupsHI['households_10000_to_14999']+groupsHI['households_less_than_10000'],groupsHI['households'])"
   ]
  },
  {
   "cell_type": "code",
   "execution_count": 66,
   "metadata": {},
   "outputs": [],
   "source": [
    "groupsHI.rename(columns={'median gross rent':\"medianGrossRent\"},inplace=True)"
   ]
  },
  {
   "cell_type": "markdown",
   "metadata": {},
   "source": [
    "## Relationship between HI index and Geographical Characteristics"
   ]
  },
  {
   "cell_type": "code",
   "execution_count": 71,
   "metadata": {},
   "outputs": [],
   "source": [
    "outDict = {} \n",
    "regDict = {}\n",
    "\n",
    "for x in ['np.log(median_value)','propCheap','propBlack','propRent','propVacant','medianGrossRent','propOver65','unitsPerPerson']:\n",
    "    form = \"HHI~{}\".format(x)\n",
    "    regDict[x] = smf.ols(formula=form, data=groupsHI.loc[(groupsHI.nrProps>1) & (groupsHI.nrUnits>9)]).fit()\n",
    "    cont = regDict[x]\n",
    "    inc = x\n",
    "    numObs = 'numObs'\n",
    "    outDict[x] = {'fitcoef': \"%.04f (%.03f)\" %(cont.params[inc].round(3), cont.pvalues[inc]), \n",
    "                    'nObs':cont.nobs,\n",
    "                    'R^2 adj':cont.rsquared_adj.round(3)}\n",
    "    \n",
    "regTbl = pd.DataFrame(outDict).loc[['fitcoef','R^2 adj','nObs']]"
   ]
  },
  {
   "cell_type": "code",
   "execution_count": 74,
   "metadata": {},
   "outputs": [
    {
     "data": {
      "text/html": [
       "<div>\n",
       "<style scoped>\n",
       "    .dataframe tbody tr th:only-of-type {\n",
       "        vertical-align: middle;\n",
       "    }\n",
       "\n",
       "    .dataframe tbody tr th {\n",
       "        vertical-align: top;\n",
       "    }\n",
       "\n",
       "    .dataframe thead th {\n",
       "        text-align: right;\n",
       "    }\n",
       "</style>\n",
       "<table border=\"1\" class=\"dataframe\">\n",
       "  <thead>\n",
       "    <tr style=\"text-align: right;\">\n",
       "      <th></th>\n",
       "      <th>fitcoef</th>\n",
       "      <th>R^2 adj</th>\n",
       "      <th>nObs</th>\n",
       "    </tr>\n",
       "  </thead>\n",
       "  <tbody>\n",
       "    <tr>\n",
       "      <th>np.log(median_value)</th>\n",
       "      <td>0.0090 (0.151)</td>\n",
       "      <td>0.002</td>\n",
       "      <td>532</td>\n",
       "    </tr>\n",
       "    <tr>\n",
       "      <th>propCheap</th>\n",
       "      <td>0.1700 (0.000)</td>\n",
       "      <td>0.101</td>\n",
       "      <td>571</td>\n",
       "    </tr>\n",
       "    <tr>\n",
       "      <th>propBlack</th>\n",
       "      <td>0.0050 (0.585)</td>\n",
       "      <td>-0.001</td>\n",
       "      <td>571</td>\n",
       "    </tr>\n",
       "    <tr>\n",
       "      <th>propRent</th>\n",
       "      <td>0.1430 (0.000)</td>\n",
       "      <td>0.161</td>\n",
       "      <td>571</td>\n",
       "    </tr>\n",
       "    <tr>\n",
       "      <th>propVacant</th>\n",
       "      <td>-0.0150 (0.667)</td>\n",
       "      <td>-0.001</td>\n",
       "      <td>571</td>\n",
       "    </tr>\n",
       "    <tr>\n",
       "      <th>medianGrossRent</th>\n",
       "      <td>-0.0000 (0.000)</td>\n",
       "      <td>0.022</td>\n",
       "      <td>554</td>\n",
       "    </tr>\n",
       "    <tr>\n",
       "      <th>propOver65</th>\n",
       "      <td>0.0230 (0.634)</td>\n",
       "      <td>-0.001</td>\n",
       "      <td>571</td>\n",
       "    </tr>\n",
       "    <tr>\n",
       "      <th>unitsPerPerson</th>\n",
       "      <td>0.0090 (0.015)</td>\n",
       "      <td>0.009</td>\n",
       "      <td>571</td>\n",
       "    </tr>\n",
       "  </tbody>\n",
       "</table>\n",
       "</div>"
      ],
      "text/plain": [
       "                              fitcoef R^2 adj nObs\n",
       "np.log(median_value)   0.0090 (0.151)   0.002  532\n",
       "propCheap              0.1700 (0.000)   0.101  571\n",
       "propBlack              0.0050 (0.585)  -0.001  571\n",
       "propRent               0.1430 (0.000)   0.161  571\n",
       "propVacant            -0.0150 (0.667)  -0.001  571\n",
       "medianGrossRent       -0.0000 (0.000)   0.022  554\n",
       "propOver65             0.0230 (0.634)  -0.001  571\n",
       "unitsPerPerson         0.0090 (0.015)   0.009  571"
      ]
     },
     "execution_count": 74,
     "metadata": {},
     "output_type": "execute_result"
    }
   ],
   "source": [
    "toLatex(regTbl.transpose(),'blockGroupRegressions.tex')"
   ]
  },
  {
   "cell_type": "code",
   "execution_count": 102,
   "metadata": {},
   "outputs": [
    {
     "name": "stdout",
     "output_type": "stream",
     "text": [
      "For block groups with more than 1 property:\n"
     ]
    },
    {
     "data": {
      "image/png": "[encoded data removed]",
      "text/plain": [
       "<matplotlib.figure.Figure at 0x1a31ea4d780>"
      ]
     },
     "metadata": {},
     "output_type": "display_data"
    }
   ],
   "source": [
    "fig, axes = plt.subplots(4,2)\n",
    "fig.set_figheight(15)\n",
    "fig.set_figwidth(15)\n",
    "\n",
    "plasma = plt.get_cmap(\"cool\")\n",
    "colors = iter(plasma(np.linspace(0,1,len(axes.flatten()))))\n",
    "dotSize = 40\n",
    "fontSize = 20\n",
    "\n",
    "groupsHI= groupsHI.loc[groupsHI.nrUnits>1]\n",
    "\n",
    "axes[0,0].scatter(x=groupsHI.propBlack,y=groupsHI.HHI,  s=dotSize, color = next(colors))\n",
    "axes[0,1].scatter(x=groupsHI.propOver65, y= groupsHI.HHI, s=dotSize, color = next(colors))\n",
    "axes[1,0].scatter(x=groupsHI.propRent, y=groupsHI.HHI, s=dotSize, color=next(colors))\n",
    "axes[1,1].scatter(x=groupsHI.propVacant, y=groupsHI.HHI, s=dotSize, color=next(colors))\n",
    "axes[2,0].scatter(x=groupsHI.loc[:,'median household income'],y=groupsHI.HHI, s=dotSize, color=next(colors))\n",
    "axes[2,1].scatter(x = groupsHI.unemployment, y=groupsHI.HHI,s=dotSize, color=next(colors) )\n",
    "axes[3,0].scatter(x = groupsHI.loc[:,'medianGrossRent'], y = groupsHI.HHI, s=dotSize, color=next(colors))\n",
    "axes[3,1].scatter(x = groupsHI.loc[:,'propCheap'], y = groupsHI.HHI, s=dotSize, color=next(colors))\n",
    "\n",
    "for ax,xlab in zip(axes.flatten(),['proportion black','proportion over age 65','proportion who rent','vacancy rate','income','unemployment','median rent', 'unitsPerPerson']):\n",
    "    ax.set_ylim([0,.6])\n",
    "    #ax.set_xlim([-0.01,1.01])\n",
    "    ax.set_ylabel(\"HHI\")\n",
    "    ax.set_xlabel(xlab, fontsize = fontSize)\n",
    "    #ax.set_title(xlab + \" at block groups\", fontsize = fontSize+1)\n",
    "    \n",
    "fig.subplots_adjust(hspace=.5)    \n",
    "print(\"For block groups with more than 1 property:\")\n",
    "#plt.savefig(\"/\".join([data_path,'blockGroups_acs.png']))"
   ]
  },
  {
   "cell_type": "code",
   "execution_count": 105,
   "metadata": {},
   "outputs": [
    {
     "data": {
      "text/html": [
       "<div>\n",
       "<table border=\"1\" class=\"dataframe\">\n",
       "  <thead>\n",
       "    <tr style=\"text-align: right;\">\n",
       "      <th></th>\n",
       "      <th>propBlack</th>\n",
       "      <th>propOver65</th>\n",
       "      <th>propRent</th>\n",
       "      <th>propVacant</th>\n",
       "    </tr>\n",
       "  </thead>\n",
       "  <tbody>\n",
       "    <tr>\n",
       "      <th>fitcoef</th>\n",
       "      <td>0.0213 (0.000)</td>\n",
       "      <td>-0.0472 (0.056)</td>\n",
       "      <td>0.2447 (0.000)</td>\n",
       "      <td>0.1976 (0.000)</td>\n",
       "    </tr>\n",
       "    <tr>\n",
       "      <th>R^2 adj</th>\n",
       "      <td>0.00314936</td>\n",
       "      <td>0.000482607</td>\n",
       "      <td>0.254135</td>\n",
       "      <td>0.0163706</td>\n",
       "    </tr>\n",
       "    <tr>\n",
       "      <th>nObs</th>\n",
       "      <td>5497</td>\n",
       "      <td>5497</td>\n",
       "      <td>5496</td>\n",
       "      <td>5498</td>\n",
       "    </tr>\n",
       "  </tbody>\n",
       "</table>\n",
       "</div>"
      ],
      "text/plain": [
       "              propBlack       propOver65        propRent      propVacant\n",
       "fitcoef  0.0213 (0.000)  -0.0472 (0.056)  0.2447 (0.000)  0.1976 (0.000)\n",
       "R^2 adj      0.00314936      0.000482607        0.254135       0.0163706\n",
       "nObs               5497             5497            5496            5498"
      ]
     },
     "execution_count": 105,
     "metadata": {},
     "output_type": "execute_result"
    }
   ],
   "source": [
    "outDict = {} \n",
    "regDict = {}\n",
    "\n",
    "blocksHI = blocksHI.loc[(blocksHI.nrProps>1) & (blocksHI.nrUnits>9)]\n",
    "\n",
    "for x in ['propBlack','propRent','propVacant','propOver65']:\n",
    "    form = \"HHI~{}\".format(x)\n",
    "    regDict[x] = smf.ols(formula=form, data=blocksHI.loc[(blocksHI.nrProps>1) & (blocksHI.nrUnits>9)]).fit()\n",
    "    cont = regDict[x]\n",
    "    inc = x\n",
    "    numObs = 'numObs'\n",
    "    outDict[x] = {'fitcoef': \"%.04f (%.03f)\" %(cont.params[inc], cont.pvalues[inc]), \n",
    "                    'nObs':cont.nobs,\n",
    "                    'R^2 adj':cont.rsquared_adj}\n",
    "    \n",
    "regTbl = pd.DataFrame(outDict).loc[['fitcoef','R^2 adj','nObs']]\n",
    "toLatex(regTbl,'blockRegressions.tex')"
   ]
  },
  {
   "cell_type": "code",
   "execution_count": 71,
   "metadata": {},
   "outputs": [
    {
     "name": "stdout",
     "output_type": "stream",
     "text": [
      "For blocks with more than 1 property and 10 units\n"
     ]
    },
    {
     "data": {
      "image/png": "[encoded data removed]",
      "text/plain": [
       "<matplotlib.figure.Figure at 0x1a312e96f28>"
      ]
     },
     "metadata": {},
     "output_type": "display_data"
    }
   ],
   "source": [
    "fig, axes = plt.subplots(2,2)\n",
    "fig.set_figheight(15)\n",
    "fig.set_figwidth(15)\n",
    "\n",
    "plasma = plt.get_cmap(\"cool\")\n",
    "colors = iter(plasma(np.linspace(0,1,len(axes.flatten()))))\n",
    "dotSize = 40\n",
    "fontSize = 20\n",
    "\n",
    "blocksHI = blocksHI.loc[(blocksHI.nrProps>1) & (blocksHI.nrUnits>9)]\n",
    "axes[0,0].scatter(x=blocksHI.propBlack,y=blocksHI.HHI,  s=dotSize, color = next(colors))\n",
    "axes[0,1].scatter(x=blocksHI.propOver65, y= blocksHI.HHI, s=dotSize, color = next(colors))\n",
    "axes[1,0].scatter(x=blocksHI.propRent, y=blocksHI.HHI, s=dotSize, color=next(colors))\n",
    "axes[1,1].scatter(x=blocksHI.propVacant, y=blocksHI.HHI, s=dotSize, color=next(colors))\n",
    "\n",
    "for ax,xlab in zip(axes.flatten(),['proportion black','proportion over age 65','proportion who rent','vacancy rate']):\n",
    "    ax.set_ylim([0,1])\n",
    "    ax.set_xlim([-0.01,1.01])\n",
    "    ax.set_ylabel(\"Herfindahl–Hirschman Index\")\n",
    "    ax.set_xlabel(xlab, fontsize = fontSize)\n",
    "    ax.set_title(xlab + \" at block level\", fontsize = fontSize+1)\n",
    "    \n",
    "fig.subplots_adjust(hspace=.5)        \n",
    "print(\"For blocks with more than 1 property and 10 units\")\n",
    "plt.savefig(\"/\".join([data_path, \"blocks_acs.png\"]))"
   ]
  },
  {
   "cell_type": "markdown",
   "metadata": {
    "collapsed": true
   },
   "source": [
    "# Geocode tax assessor\n",
    "\n",
    "arcGIS [geocoding](https://developers.arcgis.com/python/guide/batch-geocoding/) directions are a mess and don't work half the time but, nevertheless, do the job after persistent effort. \n",
    "\n",
    "Basically, have to geocode all addresses. On the other hand, addresses are already assigned census tracts and census block numbers which alleviates most of the need to geocode the addresses. "
   ]
  },
  {
   "cell_type": "code",
   "execution_count": null,
   "metadata": {},
   "outputs": [],
   "source": [
    "#tax.lookupAddress.to_csv(\"/\".join([data_path, 'addresses2geocode.csv']))"
   ]
  },
  {
   "cell_type": "code",
   "execution_count": null,
   "metadata": {},
   "outputs": [],
   "source": [
    "from arcgis.gis import *\n",
    "from arcgis.geocoding import geocode\n",
    "#from arcgis.geometry import Point\n",
    "\n",
    "from arcgis.gis import GIS\n",
    "from arcgis.geocoding import get_geocoders, batch_geocode\n",
    "\n",
    "gis = GIS(\"http://www.arcgis.com\", \"burinski_priceusc\", \"Disturb3\")\n",
    "\n",
    "# use the first of GIS's configured geocoders\n",
    "geocoder = get_geocoders(gis)[0]\n",
    "print(\"MaxBatchSize : \" + str(geocoder.properties.locatorProperties.MaxBatchSize))\n",
    "print(\"SuggestedBatchSize : \" + str(geocoder.properties.locatorProperties.SuggestedBatchSize))"
   ]
  },
  {
   "cell_type": "code",
   "execution_count": null,
   "metadata": {},
   "outputs": [],
   "source": [
    "def to_addrDict(x):\n",
    "    addrDict = {\n",
    "        'Street': \" \".join([str(x['house_nr_hi']),x['street'],x['sttype']]).lower(),\n",
    "        'City':\"Milwaukee\",\n",
    "        'State':\"WI\",\n",
    "        'Zone':str(x['geo_zip_code'])[:5]}\n",
    "    return(addrDict)\n",
    "\n",
    "def to_addrStr(x):\n",
    "    s= \" \".join([str(x['house_nr_hi']),x['street'],str(x['sttype']) + \",\",\"Milwaukee, WI\", str(x['geo_zip_code'])[:5]]).title()\n",
    "    return(s)\n",
    "\n",
    "def parse_geocode_results(results):\n",
    "    #topres = [r for r in results if r['score']>99][0]['location']\n",
    "    x = results[0]['location']['x']\n",
    "    y = results[0]['location']['y']\n",
    "    return((x,y))\n",
    "\n",
    "def parse_batch_results(results):\n",
    "    coordDict = {}\n",
    "    coordDict['x'] = []\n",
    "    coordDict['y'] = []\n",
    "    for result in results:\n",
    "        coordDict['x'].append(result['location']['x'])\n",
    "        coordDict['y'].append(result['location']['y'])\n",
    "    return(pd.DataFrame(coordDict))"
   ]
  },
  {
   "cell_type": "code",
   "execution_count": null,
   "metadata": {},
   "outputs": [],
   "source": [
    "#make address string for all addresses in the data set\n",
    "tax.loc[:,'lookupAddress'] = tax.apply(lambda r: to_addrStr(r),axis=1)\n",
    "\n",
    "## geocode single address \n",
    "#results = geocode(addresses.iloc[0])\n",
    "#parse_geocode_results(results)\n",
    "\n",
    "## i can batch geocode the addresses OR code them individually. For one, I'll be charged, the other, I can get away with\n",
    "#results = batch_geocode(list(addresses))\n",
    "#parse_batch_results(results)"
   ]
  },
  {
   "cell_type": "code",
   "execution_count": null,
   "metadata": {},
   "outputs": [],
   "source": [
    "## split my data frame into 200 parts\n",
    "splitArray = np.array_split(tax.lookupAddress, int(tax.shape[0]/200))\n",
    "len(splitArray)"
   ]
  },
  {
   "cell_type": "code",
   "execution_count": null,
   "metadata": {},
   "outputs": [],
   "source": [
    "## batch geocode them in 200s until done\n",
    "chunkResults = []\n",
    "for i,chunk in enumerate(splitArray[0:]):\n",
    "    if i%100 == 0:\n",
    "        print(\"Working on chunk: %d\" %i)\n",
    "        #print(\"\\tChunk size: %d\" %chunk.shape[0])\n",
    "    try:\n",
    "        temp = parse_batch_results(batch_geocode(list(chunk)))\n",
    "        temp.index = chunk.index\n",
    "        chunkResults.append(temp)\n",
    "    except RuntimeError as e:\n",
    "        print(e)\n",
    "        print(\"stopped at chunk num: %d\" %i)\n",
    "        break"
   ]
  },
  {
   "cell_type": "code",
   "execution_count": null,
   "metadata": {},
   "outputs": [],
   "source": [
    "codedBatch = pd.concat(chunkResults)\n",
    "codedBatch.to_csv(\"/\".join([data_path, 'geocodedAddresses_4thBatch.csv']))"
   ]
  },
  {
   "cell_type": "code",
   "execution_count": null,
   "metadata": {},
   "outputs": [],
   "source": [
    "## batch stopped working so I am now turning to geocode. \n",
    "\n",
    "chunkResults = []\n",
    "for i,chunk in enumerate(splitArray[358:]):\n",
    "    if i%10 == 0:\n",
    "        print(\"Working on chunk: %d\" %i)\n",
    "        print(\"\\tChunk size: %d\" %chunk.shape[0])\n",
    "    try:\n",
    "        temp = chunk.apply(lambda s: parse_geocode_results(geocode(s)))\n",
    "        temp.index = chunk.index\n",
    "        temp = temp.apply(pd.Series)\n",
    "        temp.columns = ['x','y']\n",
    "        chunkResults.append(temp)\n",
    "    except RuntimeError as e:\n",
    "        print(e)\n",
    "        print(\"stopped at chunk num: %d\" %i)\n",
    "        break"
   ]
  },
  {
   "cell_type": "code",
   "execution_count": null,
   "metadata": {},
   "outputs": [],
   "source": []
  },
  {
   "cell_type": "code",
   "execution_count": null,
   "metadata": {},
   "outputs": [],
   "source": [
    "print(\"Number of chunks processed: %d\" %len(chunkResults))\n",
    "codedBatch = pd.concat(chunkResults)\n",
    "codedBatch.to_csv(\"/\".join([data_path, 'geocodedAddresses_4thBatch.csv']))"
   ]
  },
  {
   "cell_type": "code",
   "execution_count": null,
   "metadata": {},
   "outputs": [],
   "source": [
    "tempLoad = pd.read_csv(\"/\".join([data_path, 'geocodedAddresses_3rdBatch.csv']))"
   ]
  },
  {
   "cell_type": "code",
   "execution_count": null,
   "metadata": {},
   "outputs": [],
   "source": [
    "tempLoad.shape[0]"
   ]
  },
  {
   "cell_type": "code",
   "execution_count": null,
   "metadata": {},
   "outputs": [],
   "source": [
    "9000/200"
   ]
  },
  {
   "cell_type": "code",
   "execution_count": null,
   "metadata": {},
   "outputs": [],
   "source": [
    "358+45"
   ]
  },
  {
   "cell_type": "code",
   "execution_count": null,
   "metadata": {},
   "outputs": [],
   "source": [
    "batchDict = {}\n",
    "\n",
    "for s in ['geocodedAddresses_1stBatch.csv','geocodedAddresses_2stBatch.csv','geocodedAddresses_3rdBatch.csv']:\n",
    "    batchDict[s] = pd.read_csv(\"/\".join([data_path, s]))\n",
    "    \n",
    "batches = pd.concat(batchDict)    "
   ]
  },
  {
   "cell_type": "code",
   "execution_count": null,
   "metadata": {},
   "outputs": [],
   "source": [
    "batches.set_index('Unnamed: 0',inplace=True)"
   ]
  },
  {
   "cell_type": "code",
   "execution_count": null,
   "metadata": {},
   "outputs": [],
   "source": []
  },
  {
   "cell_type": "code",
   "execution_count": null,
   "metadata": {
    "collapsed": true
   },
   "outputs": [],
   "source": []
  }
 ],
 "metadata": {
  "kernelspec": {
   "display_name": "Python 3",
   "language": "python",
   "name": "python3"
  },
  "language_info": {
   "codemirror_mode": {
    "name": "ipython",
    "version": 3
   },
   "file_extension": ".py",
   "mimetype": "text/x-python",
   "name": "python",
   "nbconvert_exporter": "python",
   "pygments_lexer": "ipython3",
   "version": "3.7.3"
  }
 },
 "nbformat": 4,
 "nbformat_minor": 1
}
